{
 "cells": [
  {
   "cell_type": "code",
   "execution_count": 1,
   "id": "1ca08fed-7f2b-4a57-9e0c-344aadcdf764",
   "metadata": {},
   "outputs": [],
   "source": [
    "import os\n",
    "\n",
    "output_file = \"file_list.txt\"\n",
    "folder_path = \"checkpoints/stable-diffusion-v1-5\"\n",
    "\n",
    "with open(output_file, \"w\") as f:\n",
    "    for root, _, files in os.walk(folder_path):\n",
    "        for file in files:\n",
    "            f.write(os.path.join(root, file) + \"\\n\")"
   ]
  },
  {
   "cell_type": "code",
   "execution_count": null,
   "id": "b88bc6d1-3c91-4e30-a851-f037efe795a6",
   "metadata": {},
   "outputs": [],
   "source": []
  }
 ],
 "metadata": {
  "kernelspec": {
   "display_name": "Python 3 (ipykernel)",
   "language": "python",
   "name": "python3"
  },
  "language_info": {
   "codemirror_mode": {
    "name": "ipython",
    "version": 3
   },
   "file_extension": ".py",
   "mimetype": "text/x-python",
   "name": "python",
   "nbconvert_exporter": "python",
   "pygments_lexer": "ipython3",
   "version": "3.12.3"
  }
 },
 "nbformat": 4,
 "nbformat_minor": 5
}
